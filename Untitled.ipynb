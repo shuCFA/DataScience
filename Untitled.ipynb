{
 "cells": [
  {
   "cell_type": "code",
   "execution_count": null,
   "id": "99c68cb1",
   "metadata": {},
   "outputs": [],
   "source": [
    "def iseven(num):\n",
    "    if ___________:\n",
    "        print(\"This is an even number\")\n",
    "    else:\n",
    "        print(\"This is an odd number\")"
   ]
  },
  {
   "cell_type": "code",
   "execution_count": 1,
   "id": "806353e7",
   "metadata": {},
   "outputs": [],
   "source": [
    "exercise = \"The quick brown fox jumps over the lazy dog\" \n",
    "a = exercise[4:9]  \n",
    "b = exercise[16:19]  \n",
    "c = a + \" \" + b "
   ]
  },
  {
   "cell_type": "code",
   "execution_count": 2,
   "id": "0debf20e",
   "metadata": {},
   "outputs": [
    {
     "name": "stdout",
     "output_type": "stream",
     "text": [
      "quick fox\n"
     ]
    }
   ],
   "source": [
    "print(c)"
   ]
  },
  {
   "cell_type": "code",
   "execution_count": 3,
   "id": "27fda4d3",
   "metadata": {},
   "outputs": [],
   "source": [
    "x1 = \"America\"\n",
    "x2 = \"London\"\n",
    "\n",
    "lowercase1 = x1[0].lower()\n",
    "lowercase2 = x2[0].lower()\n",
    "\n",
    "a = lowercase1 + lowercase2\n",
    "b = x1[6] + x2[5]\n",
    "c = a + b"
   ]
  },
  {
   "cell_type": "code",
   "execution_count": 4,
   "id": "7a463e58",
   "metadata": {},
   "outputs": [
    {
     "ename": "NameError",
     "evalue": "name 'oru' is not defined",
     "output_type": "error",
     "traceback": [
      "\u001b[1;31m---------------------------------------------------------------------------\u001b[0m",
      "\u001b[1;31mNameError\u001b[0m                                 Traceback (most recent call last)",
      "\u001b[1;32m~\\AppData\\Local\\Temp/ipykernel_18468/1386908380.py\u001b[0m in \u001b[0;36m<module>\u001b[1;34m\u001b[0m\n\u001b[1;32m----> 1\u001b[1;33m \u001b[0moru\u001b[0m\u001b[1;33m(\u001b[0m\u001b[0mc\u001b[0m\u001b[1;33m)\u001b[0m\u001b[1;33m\u001b[0m\u001b[1;33m\u001b[0m\u001b[0m\n\u001b[0m",
      "\u001b[1;31mNameError\u001b[0m: name 'oru' is not defined"
     ]
    }
   ],
   "source": [
    "oru(c)\n"
   ]
  },
  {
   "cell_type": "code",
   "execution_count": 7,
   "id": "aa72c269",
   "metadata": {},
   "outputs": [],
   "source": [
    "def number_check(num):\n",
    "    for i in range(1, 11):\n",
    "        if i == num:\n",
    "            print(i, \">> This is your number\")\n",
    "        else:\n",
    "            print(i)"
   ]
  },
  {
   "cell_type": "code",
   "execution_count": 8,
   "id": "d960543b",
   "metadata": {},
   "outputs": [
    {
     "name": "stdout",
     "output_type": "stream",
     "text": [
      "1\n",
      "2\n",
      "3\n",
      "4\n",
      "5 >> This is your number\n",
      "6\n",
      "7\n",
      "8\n",
      "9\n",
      "10\n"
     ]
    }
   ],
   "source": [
    "number_check(5)"
   ]
  },
  {
   "cell_type": "code",
   "execution_count": null,
   "id": "a5ce532b",
   "metadata": {},
   "outputs": [],
   "source": []
  }
 ],
 "metadata": {
  "kernelspec": {
   "display_name": "Python 3 (ipykernel)",
   "language": "python",
   "name": "python3"
  },
  "language_info": {
   "codemirror_mode": {
    "name": "ipython",
    "version": 3
   },
   "file_extension": ".py",
   "mimetype": "text/x-python",
   "name": "python",
   "nbconvert_exporter": "python",
   "pygments_lexer": "ipython3",
   "version": "3.9.7"
  }
 },
 "nbformat": 4,
 "nbformat_minor": 5
}
